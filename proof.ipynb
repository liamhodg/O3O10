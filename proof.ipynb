{
 "cells": [
  {
   "cell_type": "markdown",
   "metadata": {},
   "source": [
    "The objective of this notebook is to assess the accuracy of quantities within the written work based on elementary computations using only Tables 1 through 3."
   ]
  },
  {
   "cell_type": "code",
   "execution_count": 38,
   "metadata": {},
   "outputs": [],
   "source": [
    "from flint import arb, fmpq, ctx\n",
    "import numpy as np\n",
    "\n",
    "ctx.dps = 1000\n",
    "\n",
    "round_up = lambda x, k: round(float(arb(x).mid()) + 0.5 * 10**(-k), ndigits=k)\n",
    "round_up_arr = lambda y, k: np.array([round_up(x, k) for x in y])\n",
    "\n",
    "d1 = 2\n",
    "d2 = 9\n",
    "lam = d1 + d2\n",
    "dp7 = lambda x: np.array([arb(s, '5e-7') for s in x])"
   ]
  },
  {
   "cell_type": "code",
   "execution_count": 34,
   "metadata": {},
   "outputs": [],
   "source": [
    "# Equation 3.1, ensure all quantities are to 5e-8\n",
    "alpha = arb('6.08386549','4e-8')\n",
    "omega = arb('6.18591483','2e-8')\n",
    "t_alpha = arb('1.49231081','4e-8')\n",
    "t_omega = arb('1.16211862','3e-8')"
   ]
  },
  {
   "cell_type": "code",
   "execution_count": 31,
   "metadata": {},
   "outputs": [],
   "source": [
    "M = arb('250').exp()\n",
    "eps = arb('1e-362')"
   ]
  },
  {
   "cell_type": "code",
   "execution_count": 39,
   "metadata": {},
   "outputs": [],
   "source": [
    "# Table 1\n",
    "eta_t = dp7(['-2.896297','0.058442','-6.030915'])\n",
    "d_eta_t = dp7(['-0.093145','-1.678808','-6.960761'])\n",
    "zeta_t = dp7(['-3.029322','0.058442','-1.720995'])\n",
    "d_zeta_t = dp7(['-0.020498','-9.323279','-9.521176'])"
   ]
  },
  {
   "cell_type": "code",
   "execution_count": 3,
   "metadata": {},
   "outputs": [],
   "source": [
    "# Table 2\n",
    "eta_l2 = np.array([fmpq(254,100),fmpq(118,100),fmpq(379,100)])\n",
    "zeta_l2 = np.array([fmpq(252,100),fmpq(650,100),fmpq(418,100)])\n",
    "eta_h1 = np.array([fmpq(526,100),fmpq(393,100),fmpq(948,100)])\n",
    "zeta_h1 = np.array([fmpq(595,100),fmpq(3266,100),fmpq(2187,100)])\n",
    "eta_h2 = np.array([fmpq(1256,100),fmpq(1222,100),fmpq(1574,100)])\n",
    "zeta_h2 = np.array([fmpq(2261,100),fmpq(21601,100),fmpq(13331,100)])\n",
    "eta_h3 = np.array([fmpq(4068,100),fmpq(4934,100),fmpq(3832,100)])\n",
    "zeta_h3 = np.array([fmpq(16273,100),fmpq(230732,100),fmpq(132867,100)])"
   ]
  },
  {
   "cell_type": "code",
   "execution_count": null,
   "metadata": {},
   "outputs": [],
   "source": [
    "# Table 3\n",
    "mu_t = dp7(['-1.012567','0.006202','0.146589'])\n",
    "d_mu_t = dp7(['-0.009517','-0.168800','0.001461'])\n",
    "nu_t = dp7(['-0.994607','0.599502','0.802500'])\n",
    "d_nu_t = dp7(['-0.210300','0.259384','0.004078'])\n",
    "mu_h3 = np.array([fmpq(2763,100), fmpq(3552, 100), fmpq(2153, 100)])\n",
    "nu_h3 = np.array([fmpq(11698,100), fmpq(181889, 100), fmpq(103825, 100)])"
   ]
  },
  {
   "cell_type": "markdown",
   "metadata": {},
   "source": [
    "### Lemma 2"
   ]
  },
  {
   "cell_type": "code",
   "execution_count": 5,
   "metadata": {},
   "outputs": [
    {
     "name": "stdout",
     "output_type": "stream",
     "text": [
      "eta_c0: [ 6.6  5.  11.9] 16.1\n",
      "zeta_c0: [ 7.5 40.9 27.4] 50.3\n",
      "\n",
      "d_eta_c0: [25.2 24.5 31.5] 47.2\n",
      "d_zeta_c0: [ 45.3 432.1 266.7] 509.8\n",
      "dd_eta_c0: [81.4 98.7 76.7] 149.2\n",
      "dd_zeta_c0: [ 325.5 4614.7 2657.4] 5335.1\n",
      "\n",
      "eta_c1: 63.300000000000004\n",
      "eta_c2: 212.5\n",
      "\n",
      "zeta_c1: 560.1\n",
      "zeta_c2: 5895.200000000001\n"
     ]
    }
   ],
   "source": [
    "eta_c0 = fmpq(5,4) * eta_h1\n",
    "eta_c0 = round_up_arr(eta_c0, 1)\n",
    "eta_c0_tot = round_up((np.linalg.norm(eta_c0)**2 + alpha**2 + lam).sqrt(), 1)\n",
    "print('eta_c0:', eta_c0, eta_c0_tot)\n",
    "zeta_c0 = fmpq(5,4) * zeta_h1\n",
    "zeta_c0 = round_up_arr(zeta_c0, 1)\n",
    "zeta_c0_tot = round_up((np.linalg.norm(zeta_c0)**2 + alpha**2 + lam).sqrt(), 1)\n",
    "print('zeta_c0:', zeta_c0, zeta_c0_tot)\n",
    "d_eta_c0 = fmpq(2,1) * eta_h2\n",
    "d_eta_c0 = round_up_arr(d_eta_c0, 1)\n",
    "d_eta_c0_tot = round(np.linalg.norm(d_eta_c0)+0.05, ndigits=1)\n",
    "print('\\nd_eta_c0:', d_eta_c0, d_eta_c0_tot)\n",
    "d_zeta_c0 = fmpq(2,1) * zeta_h2\n",
    "d_zeta_c0 = round_up_arr(d_zeta_c0, 1)\n",
    "d_zeta_c0_tot = round(np.linalg.norm(d_zeta_c0)+0.05, ndigits=1)\n",
    "print('d_zeta_c0:', d_zeta_c0, d_zeta_c0_tot)\n",
    "dd_eta_c0 = fmpq(2,1) * eta_h3\n",
    "dd_eta_c0 = round_up_arr(dd_eta_c0, 1)\n",
    "dd_eta_c0_tot = round(np.linalg.norm(dd_eta_c0)+0.05, ndigits=1)\n",
    "print('dd_eta_c0:', dd_eta_c0, dd_eta_c0_tot)\n",
    "dd_zeta_c0 = fmpq(2,1) * zeta_h3\n",
    "dd_zeta_c0 = round_up_arr(dd_zeta_c0, 1)\n",
    "dd_zeta_c0_tot = round(np.linalg.norm(dd_zeta_c0)+0.05, ndigits=1)\n",
    "print('dd_zeta_c0:', dd_zeta_c0, dd_zeta_c0_tot)\n",
    "print('\\neta_c1:', eta_c0_tot + d_eta_c0_tot)\n",
    "print('eta_c2:', eta_c0_tot + d_eta_c0_tot + dd_eta_c0_tot)\n",
    "print('\\nzeta_c1:', zeta_c0_tot + d_zeta_c0_tot)\n",
    "print('zeta_c2:', zeta_c0_tot + d_zeta_c0_tot + dd_zeta_c0_tot)"
   ]
  },
  {
   "cell_type": "markdown",
   "metadata": {},
   "source": [
    "### Lemma 3"
   ]
  },
  {
   "cell_type": "code",
   "execution_count": 6,
   "metadata": {},
   "outputs": [
    {
     "name": "stdout",
     "output_type": "stream",
     "text": [
      "mu_c2: 10^2.5\n",
      "nu_c2: 10^4.1\n"
     ]
    }
   ],
   "source": [
    "mu_c2 = 6 * np.linalg.norm(round_up_arr(mu_h3, 1))\n",
    "print('mu_c2: 10^'+str(round(np.log10(mu_c2)+0.05, ndigits=1)))\n",
    "nu_c2 = 6 * np.linalg.norm(round_up_arr(nu_h3, 1))\n",
    "print('nu_c2: 10^'+str(round(np.log10(nu_c2)+0.05, ndigits=1)))"
   ]
  },
  {
   "cell_type": "markdown",
   "metadata": {},
   "source": [
    "### Proposition 4"
   ]
  },
  {
   "cell_type": "code",
   "execution_count": 14,
   "metadata": {},
   "outputs": [
    {
     "name": "stdout",
     "output_type": "stream",
     "text": [
      "2.125 x 2.5399999999999996 + 0.6666666666666666 x 1.18 + 0.5555555555555556 x 3.7899999999999996 + 2.125 x 6.08386549 + 1.5 x sqrt(11)\n",
      "131.00421497416187\n"
     ]
    }
   ],
   "source": [
    "first_line_str = '{} x {} + {} x {} + {} x {} + {} x {} + {} x sqrt({})'.format(\n",
    "    (d1 + 1/(4*d1)), float(arb(eta_l2[0])),\n",
    "    (1/(2*d1) + 3/(2*d2) + 1/4), float(arb(eta_l2[1])),\n",
    "    (1/(2*d2) + 1/2), float(arb(eta_l2[2])),\n",
    "    (d1 + 1/(4*d1)), float(alpha),\n",
    "    (d1 + 1)/2, lam\n",
    ")\n",
    "print(first_line_str)\n",
    "first_line = 1.5 + (1.5)**0.5 * 4 * (2.125 * 2.54 + 0.7*1.18 + 0.6*3.79 + 2.125*6.1 + 1.5*11**0.5)\n",
    "print(first_line)"
   ]
  },
  {
   "cell_type": "code",
   "execution_count": 17,
   "metadata": {},
   "outputs": [
    {
     "name": "stdout",
     "output_type": "stream",
     "text": [
      "9.027777777777779 x 2.5199999999999996 + 1.0555555555555556 x 6.5 + 0.75 x 4.18 + 9.027777777777779 x 6.08386549 + 5.0 x sqrt(11)\n",
      "466.63326359506436\n"
     ]
    }
   ],
   "source": [
    "second_line_str = '{} x {} + {} x {} + {} x {} + {} x {} + {} x sqrt({})'.format(\n",
    "    (d2 + 1/(4*d2)), float(arb(zeta_l2[0])),\n",
    "    (1/(2*d2) + 3/(2*d1) + 1/4), float(arb(zeta_l2[1])),\n",
    "    (1/(2*d1) + 1/2), float(arb(zeta_l2[2])),\n",
    "    (d2 + 1/(4*d2)), float(alpha),\n",
    "    (d2 + 1)/2, lam\n",
    ")\n",
    "print(second_line_str)\n",
    "second_line = 1.2 + (1.2)**0.5 * 4 * (9.1 * 2.52 + 1.1*6.5 + 0.75*4.18 + 9.1*6.2 + 5*11**0.5)\n",
    "print(second_line)"
   ]
  },
  {
   "cell_type": "markdown",
   "metadata": {},
   "source": [
    "### Table 4"
   ]
  },
  {
   "cell_type": "code",
   "execution_count": 49,
   "metadata": {},
   "outputs": [
    {
     "name": "stdout",
     "output_type": "stream",
     "text": [
      "rho_1: [0.0133237 +/- 9.06e-8]\n",
      "sig_1: [0.0729407 +/- 5.35e-8]\n"
     ]
    }
   ],
   "source": [
    "ta_rat = fmpq(9,1) / t_alpha**2\n",
    "to_rat = fmpq(2,1) / t_omega**2\n",
    "mu_1_diff = arb('0.0', 10 * (M**2 * eps).mid())\n",
    "nu_1_diff = arb('0.0', 10 * (M**2 * eps).mid())\n",
    "mu_0 = arb('0.0', 10 * (M * eps).mid())\n",
    "nu_0 = arb('0.0', 10 * (M * eps).mid())\n",
    "d_mu_0 = arb('0.0', (10**6 * M * eps).mid())\n",
    "d_nu_0 = arb('0.0', (10**6 * M * eps).mid())\n",
    "rho_1_t1 = -(mu_t[2])/(d_eta_t[2] - ta_rat)\n",
    "rho_1_t2 = mu_1_diff / (d_eta_t[2] - ta_rat + d_mu_0)\n",
    "rho_1 = rho_1_t1 + rho_1_t2\n",
    "sig_1_t1 = -(nu_t[2])/(d_zeta_t[2] - to_rat)\n",
    "sig_1_t2 = nu_1_diff / (d_zeta_t[2] - to_rat + d_nu_0)\n",
    "sig_1 = sig_1_t1 + sig_1_t2\n",
    "print('rho_1:', rho_1.str())\n",
    "print('sig_1:', sig_1.str())"
   ]
  },
  {
   "cell_type": "markdown",
   "metadata": {},
   "source": [
    "### Table 5"
   ]
  },
  {
   "cell_type": "code",
   "execution_count": 70,
   "metadata": {},
   "outputs": [
    {
     "name": "stdout",
     "output_type": "stream",
     "text": [
      "eta_0: [[-2.896297 +/- 5.01e-7] [0.058442 +/- 5.01e-7] [-6.030915 +/- 5.01e-7]]\n",
      "zeta_0: [[-3.029322 +/- 5.01e-7] [0.058442 +/- 5.01e-7] [-1.720995 +/- 5.01e-7]]\n",
      "eta_1: [[-1.013808 +/- 5.52e-7] [-0.016166 +/- 5.93e-7] [0.05385 +/- 5.23e-6]]\n",
      "zeta_1: [[-0.996102 +/- 6.77e-7] [-0.08054 +/- 5.54e-6] [0.10802 +/- 2.29e-6]]\n"
     ]
    }
   ],
   "source": [
    "eta_0 = eta_t + mu_0\n",
    "zeta_0 = zeta_t + nu_0\n",
    "rho_0 = arb('0.0', (10**3*M*eps).mid())\n",
    "sig_0 = arb('0.0', (10**3*M*eps).mid())\n",
    "mu_00 = arb('0.0', (10*M*eps).mid())\n",
    "mu_01 = arb('0.0', (10**6*M*eps).mid())\n",
    "mu_10 = mu_t + arb('0.0', (10**11*M*eps).mid())\n",
    "mu_11 = d_mu_t + arb('0.0', (10**14*M*M*eps).mid())\n",
    "mu_12 = arb('0.0', 10**6)\n",
    "mu_02 = arb('0.0', (10**20 * M * eps).mid())\n",
    "nu_00 = arb('0.0', (10*M*eps).mid())\n",
    "nu_01 = arb('0.0', (10**6*M*eps).mid())\n",
    "nu_10 = nu_t + arb('0.0', (10**11*M*eps).mid())\n",
    "nu_11 = d_nu_t + arb('0.0', (10**14*M*M*eps).mid())\n",
    "nu_12 = arb('0.0', 10**6)\n",
    "nu_02 = arb('0.0', (10**20 * M * eps).mid())\n",
    "eta_1 = (mu_10 + mu_01*rho_1+mu_11*rho_0+(rho_0*rho_0)*mu_12+2*mu_02*rho_0*rho_1)\n",
    "eta_1 += d_eta_t*rho_1 + 2*rho_0*rho_1 * eps\n",
    "zeta_1 = (nu_10 + nu_01*sig_1+nu_11*sig_0+(sig_0*sig_0)*nu_12+2*nu_02*sig_0*sig_1)\n",
    "zeta_1 += d_zeta_t*sig_1 + 2*sig_0*sig_1 * eps\n",
    "print('eta_0:', eta_0)\n",
    "print('zeta_0:', zeta_0)\n",
    "print('eta_1:', eta_1)\n",
    "print('zeta_1:', zeta_1)"
   ]
  },
  {
   "cell_type": "markdown",
   "metadata": {},
   "source": [
    "### Table 6"
   ]
  },
  {
   "cell_type": "code",
   "execution_count": 92,
   "metadata": {},
   "outputs": [
    {
     "name": "stdout",
     "output_type": "stream",
     "text": [
      "Alpha: [[3.156593 +/- 3.46e-7], [0.058442 +/- 5.01e-7]]\n",
      "Omega: [[3.156593 +/- 6.91e-7], [0.058442 +/- 5.01e-7]]\n",
      "d_Alpha: [[0.003119 +/- 2.30e-7], [-0.016166 +/- 5.93e-7]]\n",
      "d_Omega: [[0.003898 +/- 6.77e-7], [-0.08054 +/- 5.54e-6]]\n"
     ]
    }
   ],
   "source": [
    "tmp = alpha + eta_t[0]\n",
    "A_1 = (fmpq(110,1)-2*tmp*tmp - (fmpq(1,2)+fmpq(1,9))*eta_t[1]*eta_t[1])/fmpq(9,1)\n",
    "A_1 = A_1.sqrt()\n",
    "A_2 = eta_t[1]\n",
    "O_1 = zeta_t[0] + omega\n",
    "O_2 = zeta_t[1]\n",
    "dA_1 = (-4*(alpha+eta_0[0])*(arb('1.0')+eta_1[0]) - (arb('1')+fmpq(2,9))*eta_1[1]*eta_0[1])/(9 * 2 * A_1)\n",
    "dA_2 = eta_1[1]\n",
    "dO_1 = zeta_1[0] + arb('1.0')\n",
    "dO_2 = zeta_1[1]\n",
    "print('Alpha:', [A_1, A_2])\n",
    "print('Omega:', [O_1, O_2])\n",
    "print('d_Alpha:', [dA_1, dA_2])\n",
    "print('d_Omega:', [dO_1, dO_2])"
   ]
  },
  {
   "cell_type": "code",
   "execution_count": null,
   "metadata": {},
   "outputs": [],
   "source": []
  }
 ],
 "metadata": {
  "kernelspec": {
   "display_name": "base",
   "language": "python",
   "name": "python3"
  },
  "language_info": {
   "codemirror_mode": {
    "name": "ipython",
    "version": 3
   },
   "file_extension": ".py",
   "mimetype": "text/x-python",
   "name": "python",
   "nbconvert_exporter": "python",
   "pygments_lexer": "ipython3",
   "version": "3.12.3"
  }
 },
 "nbformat": 4,
 "nbformat_minor": 2
}
